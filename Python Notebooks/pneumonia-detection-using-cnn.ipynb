{
 "cells": [
  {
   "cell_type": "code",
   "execution_count": 1,
   "id": "efa42269",
   "metadata": {
    "execution": {
     "iopub.execute_input": "2021-08-17T10:30:56.186222Z",
     "iopub.status.busy": "2021-08-17T10:30:56.185077Z",
     "iopub.status.idle": "2021-08-17T10:31:02.236635Z",
     "shell.execute_reply": "2021-08-17T10:31:02.237195Z",
     "shell.execute_reply.started": "2021-08-17T10:03:56.184937Z"
    },
    "id": "sCV30xyVhFbE",
    "papermill": {
     "duration": 6.07741,
     "end_time": "2021-08-17T10:31:02.237495",
     "exception": false,
     "start_time": "2021-08-17T10:30:56.160085",
     "status": "completed"
    },
    "tags": []
   },
   "outputs": [],
   "source": [
    "import tensorflow as tf\n",
    "from keras.preprocessing.image import ImageDataGenerator"
   ]
  },
  {
   "cell_type": "code",
   "execution_count": 2,
   "id": "f357879c",
   "metadata": {
    "execution": {
     "iopub.execute_input": "2021-08-17T10:31:02.289526Z",
     "iopub.status.busy": "2021-08-17T10:31:02.288850Z",
     "iopub.status.idle": "2021-08-17T10:31:02.294544Z",
     "shell.execute_reply": "2021-08-17T10:31:02.294020Z",
     "shell.execute_reply.started": "2021-08-17T10:04:02.698259Z"
    },
    "id": "FIleuCAjoFD8",
    "papermill": {
     "duration": 0.034648,
     "end_time": "2021-08-17T10:31:02.294684",
     "exception": false,
     "start_time": "2021-08-17T10:31:02.260036",
     "status": "completed"
    },
    "tags": []
   },
   "outputs": [
    {
     "data": {
      "text/plain": [
       "'2.4.1'"
      ]
     },
     "execution_count": 2,
     "metadata": {},
     "output_type": "execute_result"
    }
   ],
   "source": [
    "tf.__version__"
   ]
  },
  {
   "cell_type": "code",
   "execution_count": 3,
   "id": "cc3834b6",
   "metadata": {
    "execution": {
     "iopub.execute_input": "2021-08-17T10:31:02.437841Z",
     "iopub.status.busy": "2021-08-17T10:31:02.436983Z",
     "iopub.status.idle": "2021-08-17T10:31:04.433157Z",
     "shell.execute_reply": "2021-08-17T10:31:04.432593Z",
     "shell.execute_reply.started": "2021-08-17T10:04:02.709909Z"
    },
    "id": "0koUcJMJpEBD",
    "papermill": {
     "duration": 2.024221,
     "end_time": "2021-08-17T10:31:04.433312",
     "exception": false,
     "start_time": "2021-08-17T10:31:02.409091",
     "status": "completed"
    },
    "tags": []
   },
   "outputs": [
    {
     "name": "stdout",
     "output_type": "stream",
     "text": [
      "Found 4192 images belonging to 2 classes.\n"
     ]
    }
   ],
   "source": [
    "train_datagen = ImageDataGenerator(rescale = 1./255,\n",
    "                                   shear_range = 0.2,\n",
    "                                   zoom_range = 0.2,\n",
    "                                   horizontal_flip = True)\n",
    "training_set = train_datagen.flow_from_directory('../input/pneumonia-xray-images/train',\n",
    "                                                 target_size = (64, 64),\n",
    "                                                 batch_size = 32,\n",
    "                                                 class_mode = 'binary')"
   ]
  },
  {
   "cell_type": "code",
   "execution_count": 4,
   "id": "e090d39c",
   "metadata": {
    "execution": {
     "iopub.execute_input": "2021-08-17T10:31:04.529984Z",
     "iopub.status.busy": "2021-08-17T10:31:04.529304Z",
     "iopub.status.idle": "2021-08-17T10:31:04.640567Z",
     "shell.execute_reply": "2021-08-17T10:31:04.641031Z",
     "shell.execute_reply.started": "2021-08-17T10:04:09.149929Z"
    },
    "id": "SH4WzfOhpKc3",
    "papermill": {
     "duration": 0.140066,
     "end_time": "2021-08-17T10:31:04.641232",
     "exception": false,
     "start_time": "2021-08-17T10:31:04.501166",
     "status": "completed"
    },
    "tags": []
   },
   "outputs": [
    {
     "name": "stdout",
     "output_type": "stream",
     "text": [
      "Found 624 images belonging to 2 classes.\n"
     ]
    }
   ],
   "source": [
    "test_datagen = ImageDataGenerator(rescale = 1./255)\n",
    "test_set = test_datagen.flow_from_directory('../input/pneumonia-xray-images/test',\n",
    "                                            target_size = (64, 64),\n",
    "                                            batch_size = 32,\n",
    "                                            class_mode = 'binary')"
   ]
  },
  {
   "cell_type": "code",
   "execution_count": 5,
   "id": "e2829129",
   "metadata": {
    "execution": {
     "iopub.execute_input": "2021-08-17T10:31:04.783844Z",
     "iopub.status.busy": "2021-08-17T10:31:04.782930Z",
     "iopub.status.idle": "2021-08-17T10:31:04.821453Z",
     "shell.execute_reply": "2021-08-17T10:31:04.820872Z",
     "shell.execute_reply.started": "2021-08-17T10:04:09.365201Z"
    },
    "id": "SAUt4UMPlhLS",
    "papermill": {
     "duration": 0.065861,
     "end_time": "2021-08-17T10:31:04.821595",
     "exception": false,
     "start_time": "2021-08-17T10:31:04.755734",
     "status": "completed"
    },
    "tags": []
   },
   "outputs": [],
   "source": [
    "cnn = tf.keras.models.Sequential()"
   ]
  },
  {
   "cell_type": "code",
   "execution_count": 6,
   "id": "341787bd",
   "metadata": {
    "execution": {
     "iopub.execute_input": "2021-08-17T10:31:04.929833Z",
     "iopub.status.busy": "2021-08-17T10:31:04.927695Z",
     "iopub.status.idle": "2021-08-17T10:31:04.978341Z",
     "shell.execute_reply": "2021-08-17T10:31:04.977701Z",
     "shell.execute_reply.started": "2021-08-17T10:04:09.415105Z"
    },
    "id": "XPzPrMckl-hV",
    "papermill": {
     "duration": 0.086417,
     "end_time": "2021-08-17T10:31:04.978495",
     "exception": false,
     "start_time": "2021-08-17T10:31:04.892078",
     "status": "completed"
    },
    "tags": []
   },
   "outputs": [],
   "source": [
    "cnn.add(tf.keras.layers.Conv2D(filters=32, kernel_size=3, activation='relu', input_shape=[64, 64, 3]))"
   ]
  },
  {
   "cell_type": "code",
   "execution_count": 7,
   "id": "258982db",
   "metadata": {
    "execution": {
     "iopub.execute_input": "2021-08-17T10:31:05.081846Z",
     "iopub.status.busy": "2021-08-17T10:31:05.081169Z",
     "iopub.status.idle": "2021-08-17T10:31:05.086423Z",
     "shell.execute_reply": "2021-08-17T10:31:05.085745Z",
     "shell.execute_reply.started": "2021-08-17T10:04:09.479428Z"
    },
    "id": "ncpqPl69mOac",
    "papermill": {
     "duration": 0.03649,
     "end_time": "2021-08-17T10:31:05.086569",
     "exception": false,
     "start_time": "2021-08-17T10:31:05.050079",
     "status": "completed"
    },
    "tags": []
   },
   "outputs": [],
   "source": [
    "cnn.add(tf.keras.layers.MaxPool2D(pool_size=2, strides=2))"
   ]
  },
  {
   "cell_type": "code",
   "execution_count": 8,
   "id": "7a61f787",
   "metadata": {
    "execution": {
     "iopub.execute_input": "2021-08-17T10:31:05.188923Z",
     "iopub.status.busy": "2021-08-17T10:31:05.183218Z",
     "iopub.status.idle": "2021-08-17T10:31:05.201787Z",
     "shell.execute_reply": "2021-08-17T10:31:05.201252Z",
     "shell.execute_reply.started": "2021-08-17T10:04:09.492592Z"
    },
    "id": "i_-FZjn_m8gk",
    "papermill": {
     "duration": 0.046322,
     "end_time": "2021-08-17T10:31:05.201932",
     "exception": false,
     "start_time": "2021-08-17T10:31:05.155610",
     "status": "completed"
    },
    "tags": []
   },
   "outputs": [],
   "source": [
    "cnn.add(tf.keras.layers.Conv2D(filters=32, kernel_size=3, activation='relu'))\n",
    "cnn.add(tf.keras.layers.MaxPool2D(pool_size=2, strides=2))"
   ]
  },
  {
   "cell_type": "code",
   "execution_count": 9,
   "id": "fecaa157",
   "metadata": {
    "execution": {
     "iopub.execute_input": "2021-08-17T10:31:05.300291Z",
     "iopub.status.busy": "2021-08-17T10:31:05.299626Z",
     "iopub.status.idle": "2021-08-17T10:31:05.307822Z",
     "shell.execute_reply": "2021-08-17T10:31:05.307100Z",
     "shell.execute_reply.started": "2021-08-17T10:04:09.515639Z"
    },
    "id": "6AZeOGCvnNZn",
    "papermill": {
     "duration": 0.037117,
     "end_time": "2021-08-17T10:31:05.307974",
     "exception": false,
     "start_time": "2021-08-17T10:31:05.270857",
     "status": "completed"
    },
    "tags": []
   },
   "outputs": [],
   "source": [
    "cnn.add(tf.keras.layers.Flatten())"
   ]
  },
  {
   "cell_type": "code",
   "execution_count": 10,
   "id": "ab3eacd7",
   "metadata": {
    "execution": {
     "iopub.execute_input": "2021-08-17T10:31:05.406913Z",
     "iopub.status.busy": "2021-08-17T10:31:05.404978Z",
     "iopub.status.idle": "2021-08-17T10:31:05.425234Z",
     "shell.execute_reply": "2021-08-17T10:31:05.424681Z",
     "shell.execute_reply.started": "2021-08-17T10:04:09.527410Z"
    },
    "id": "8GtmUlLd26Nq",
    "papermill": {
     "duration": 0.047903,
     "end_time": "2021-08-17T10:31:05.425386",
     "exception": false,
     "start_time": "2021-08-17T10:31:05.377483",
     "status": "completed"
    },
    "tags": []
   },
   "outputs": [],
   "source": [
    "cnn.add(tf.keras.layers.Dense(units=128, activation='relu'))"
   ]
  },
  {
   "cell_type": "code",
   "execution_count": 11,
   "id": "490f0b40",
   "metadata": {
    "execution": {
     "iopub.execute_input": "2021-08-17T10:31:05.523760Z",
     "iopub.status.busy": "2021-08-17T10:31:05.522965Z",
     "iopub.status.idle": "2021-08-17T10:31:05.533815Z",
     "shell.execute_reply": "2021-08-17T10:31:05.534377Z",
     "shell.execute_reply.started": "2021-08-17T10:04:09.552460Z"
    },
    "id": "1p_Zj1Mc3Ko_",
    "papermill": {
     "duration": 0.039933,
     "end_time": "2021-08-17T10:31:05.534560",
     "exception": false,
     "start_time": "2021-08-17T10:31:05.494627",
     "status": "completed"
    },
    "tags": []
   },
   "outputs": [],
   "source": [
    "cnn.add(tf.keras.layers.Dense(units=1, activation='sigmoid'))"
   ]
  },
  {
   "cell_type": "code",
   "execution_count": 12,
   "id": "1faa0ac4",
   "metadata": {
    "execution": {
     "iopub.execute_input": "2021-08-17T10:31:05.676369Z",
     "iopub.status.busy": "2021-08-17T10:31:05.675756Z",
     "iopub.status.idle": "2021-08-17T10:31:05.691253Z",
     "shell.execute_reply": "2021-08-17T10:31:05.691820Z",
     "shell.execute_reply.started": "2021-08-17T10:04:09.567019Z"
    },
    "id": "NALksrNQpUlJ",
    "papermill": {
     "duration": 0.041576,
     "end_time": "2021-08-17T10:31:05.691998",
     "exception": false,
     "start_time": "2021-08-17T10:31:05.650422",
     "status": "completed"
    },
    "tags": []
   },
   "outputs": [],
   "source": [
    "cnn.compile(optimizer = 'adam', loss = 'binary_crossentropy', metrics = ['accuracy'])"
   ]
  },
  {
   "cell_type": "code",
   "execution_count": 13,
   "id": "00e8411b",
   "metadata": {
    "execution": {
     "iopub.execute_input": "2021-08-17T10:31:05.786988Z",
     "iopub.status.busy": "2021-08-17T10:31:05.786375Z",
     "iopub.status.idle": "2021-08-17T10:43:04.561854Z",
     "shell.execute_reply": "2021-08-17T10:43:04.562417Z",
     "shell.execute_reply.started": "2021-08-17T10:04:09.584379Z"
    },
    "id": "XUj1W4PJptta",
    "papermill": {
     "duration": 718.801669,
     "end_time": "2021-08-17T10:43:04.562647",
     "exception": false,
     "start_time": "2021-08-17T10:31:05.760978",
     "status": "completed"
    },
    "tags": []
   },
   "outputs": [
    {
     "name": "stdout",
     "output_type": "stream",
     "text": [
      "Epoch 1/10\n",
      "131/131 [==============================] - 99s 750ms/step - loss: 0.5083 - accuracy: 0.7778 - val_loss: 0.3341 - val_accuracy: 0.8462\n",
      "Epoch 2/10\n",
      "131/131 [==============================] - 69s 523ms/step - loss: 0.2370 - accuracy: 0.8979 - val_loss: 0.4841 - val_accuracy: 0.7997\n",
      "Epoch 3/10\n",
      "131/131 [==============================] - 68s 522ms/step - loss: 0.2311 - accuracy: 0.8975 - val_loss: 0.2897 - val_accuracy: 0.8734\n",
      "Epoch 4/10\n",
      "131/131 [==============================] - 68s 522ms/step - loss: 0.2013 - accuracy: 0.9147 - val_loss: 0.3661 - val_accuracy: 0.8462\n",
      "Epoch 5/10\n",
      "131/131 [==============================] - 68s 522ms/step - loss: 0.1965 - accuracy: 0.9162 - val_loss: 0.6183 - val_accuracy: 0.7933\n",
      "Epoch 6/10\n",
      "131/131 [==============================] - 68s 521ms/step - loss: 0.1885 - accuracy: 0.9188 - val_loss: 0.3332 - val_accuracy: 0.8814\n",
      "Epoch 7/10\n",
      "131/131 [==============================] - 68s 521ms/step - loss: 0.1707 - accuracy: 0.9363 - val_loss: 0.3168 - val_accuracy: 0.8830\n",
      "Epoch 8/10\n",
      "131/131 [==============================] - 68s 520ms/step - loss: 0.1555 - accuracy: 0.9329 - val_loss: 0.3128 - val_accuracy: 0.8926\n",
      "Epoch 9/10\n",
      "131/131 [==============================] - 71s 540ms/step - loss: 0.1746 - accuracy: 0.9318 - val_loss: 0.2690 - val_accuracy: 0.8990\n",
      "Epoch 10/10\n",
      "131/131 [==============================] - 69s 531ms/step - loss: 0.1640 - accuracy: 0.9394 - val_loss: 0.3067 - val_accuracy: 0.9038\n"
     ]
    },
    {
     "data": {
      "text/plain": [
       "<tensorflow.python.keras.callbacks.History at 0x7f4542955090>"
      ]
     },
     "execution_count": 13,
     "metadata": {},
     "output_type": "execute_result"
    }
   ],
   "source": [
    "cnn.fit(x = training_set, validation_data = test_set, epochs = 10)"
   ]
  },
  {
   "cell_type": "code",
   "execution_count": 14,
   "id": "f71b00cf",
   "metadata": {
    "execution": {
     "iopub.execute_input": "2021-08-17T10:43:07.252950Z",
     "iopub.status.busy": "2021-08-17T10:43:07.251811Z",
     "iopub.status.idle": "2021-08-17T10:43:07.429332Z",
     "shell.execute_reply": "2021-08-17T10:43:07.428607Z",
     "shell.execute_reply.started": "2021-08-17T10:17:06.487620Z"
    },
    "id": "gsSiWEJY1BPB",
    "papermill": {
     "duration": 0.691641,
     "end_time": "2021-08-17T10:43:07.429485",
     "exception": false,
     "start_time": "2021-08-17T10:43:06.737844",
     "status": "completed"
    },
    "tags": []
   },
   "outputs": [],
   "source": [
    "import numpy as np\n",
    "from keras.preprocessing import image\n",
    "test_image = image.load_img('../input/pneumonia-xray-images/test/normal/IM-0011-0001-0001.jpeg', target_size = (64, 64))\n",
    "test_image = image.img_to_array(test_image)\n",
    "test_image = np.expand_dims(test_image, axis = 0)\n",
    "result = cnn.predict(test_image)\n",
    "training_set.class_indices\n",
    "if result[0][0] == 1:\n",
    "  prediction = 'normal'\n",
    "else:\n",
    "  prediction = 'opacity'"
   ]
  },
  {
   "cell_type": "code",
   "execution_count": 15,
   "id": "e91d34cf",
   "metadata": {
    "execution": {
     "iopub.execute_input": "2021-08-17T10:43:08.289329Z",
     "iopub.status.busy": "2021-08-17T10:43:08.288537Z",
     "iopub.status.idle": "2021-08-17T10:43:08.291290Z",
     "shell.execute_reply": "2021-08-17T10:43:08.291774Z",
     "shell.execute_reply.started": "2021-08-17T10:17:09.023505Z"
    },
    "id": "ED9KB3I54c1i",
    "papermill": {
     "duration": 0.432727,
     "end_time": "2021-08-17T10:43:08.291959",
     "exception": false,
     "start_time": "2021-08-17T10:43:07.859232",
     "status": "completed"
    },
    "tags": []
   },
   "outputs": [
    {
     "name": "stdout",
     "output_type": "stream",
     "text": [
      "opacity\n"
     ]
    }
   ],
   "source": [
    "print(prediction)"
   ]
  },
  {
   "cell_type": "code",
   "execution_count": null,
   "id": "9f3050be",
   "metadata": {},
   "outputs": [],
   "source": [
    "model.save(\"pneumonia.h5\")"
   ]
  }
 ],
 "metadata": {
  "kernelspec": {
   "display_name": "Python 3",
   "language": "python",
   "name": "python3"
  },
  "language_info": {
   "codemirror_mode": {
    "name": "ipython",
    "version": 3
   },
   "file_extension": ".py",
   "mimetype": "text/x-python",
   "name": "python",
   "nbconvert_exporter": "python",
   "pygments_lexer": "ipython3",
   "version": "3.7.10"
  },
  "papermill": {
   "default_parameters": {},
   "duration": 743.153745,
   "end_time": "2021-08-17T10:43:10.826472",
   "environment_variables": {},
   "exception": null,
   "input_path": "__notebook__.ipynb",
   "output_path": "__notebook__.ipynb",
   "parameters": {},
   "start_time": "2021-08-17T10:30:47.672727",
   "version": "2.3.3"
  }
 },
 "nbformat": 4,
 "nbformat_minor": 5
}
